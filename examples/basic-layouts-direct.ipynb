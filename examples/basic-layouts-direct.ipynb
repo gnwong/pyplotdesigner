{
 "cells": [
  {
   "cell_type": "code",
   "execution_count": 1,
   "metadata": {},
   "outputs": [],
   "source": [
    "import matplotlib.pyplot as plt\n",
    "import numpy as np\n",
    "\n",
    "from pprint import pprint"
   ]
  },
  {
   "cell_type": "code",
   "execution_count": 2,
   "metadata": {},
   "outputs": [],
   "source": [
    "import pyplotdesigner as ppd"
   ]
  },
  {
   "cell_type": "markdown",
   "metadata": {},
   "source": [
    "# example using simple constraints"
   ]
  },
  {
   "cell_type": "code",
   "execution_count": 3,
   "metadata": {
    "scrolled": false
   },
   "outputs": [
    {
     "data": {
      "image/png": "[encoded data removed]",
      "text/plain": [
       "<Figure size 600x600 with 3 Axes>"
      ]
     },
     "metadata": {},
     "output_type": "display_data"
    }
   ],
   "source": [
    "axis_spacing = 0.15\n",
    "margin = 0.5\n",
    "\n",
    "pd = ppd.PlotDescription(6, 6)\n",
    "\n",
    "# add three axes\n",
    "ax1 = pd.add_axis(0, 0, 1, 1)\n",
    "ax2 = pd.add_axis(0, 0, 1, 1)\n",
    "ax3 = pd.add_axis(0, 0, 1, 1)\n",
    "\n",
    "# align left plot\n",
    "pd.add_constraint(None, ax1, 'w', 'w', 'move separation', margin)\n",
    "\n",
    "# align to north boundary\n",
    "pd.add_constraint(None, [ax1, ax2], 'n', 'n', 'move separation', -margin)\n",
    "\n",
    "# set margins\n",
    "pd.add_constraint(ax1, [ax2, ax3], 'e', 'w', 'move separation', axis_spacing)\n",
    "\n",
    "# resize remaining degrees of freedom to respect desired separations\n",
    "pd.add_constraint(None, [ax1, ax3], 's', 's', 'resize separation', margin)\n",
    "pd.add_constraint(None, [ax2, ax3], 'e', 'e', 'resize separation', -margin)\n",
    "\n",
    "# force two right plots to obey given aspect ratio in heights\n",
    "pd.add_constraint(ax2, ax3, 'w', 'w', 'resize duplicate', 1.)\n",
    "\n",
    "# apply constraints and make image of layout\n",
    "pd.apply_constraints(iterations=101)\n",
    "fig = pd.get_matplotlib_figure(facecolor='r')\n",
    "fig.savefig('direct-simple.png')"
   ]
  },
  {
   "cell_type": "code",
   "execution_count": 4,
   "metadata": {},
   "outputs": [
    {
     "name": "stdout",
     "output_type": "stream",
     "text": [
      "PlotDescription<6x6, 3 axes, 0 text elements>\n",
      "\n",
      "Axes:\n",
      "[PlotAxis<axis_0, x0=0.5, y0=0.5, w=1, h=5.0>,\n",
      " PlotAxis<axis_1, x0=1.65, y0=4.5, w=3.85, h=1>,\n",
      " PlotAxis<axis_2, x0=1.65, y0=0.5, w=3.85, h=1.0>]\n",
      "\n",
      "Constraints:\n",
      "[PlotConstraint<None.w m s:0.5 axis_0.w>,\n",
      " PlotConstraint<None.n m s:-0.5 axis_0.n>,\n",
      " PlotConstraint<None.n m s:-0.5 axis_1.n>,\n",
      " PlotConstraint<axis_0.e m s:0.15 axis_1.w>,\n",
      " PlotConstraint<axis_0.e m s:0.15 axis_2.w>,\n",
      " PlotConstraint<None.s r s:0.5 axis_0.s>,\n",
      " PlotConstraint<None.s r s:0.5 axis_2.s>,\n",
      " PlotConstraint<None.e r s:-0.5 axis_1.e>,\n",
      " PlotConstraint<None.e r s:-0.5 axis_2.e>,\n",
      " PlotConstraint<axis_1.w r d:1.0 axis_2.w>]\n"
     ]
    }
   ],
   "source": [
    "print(pd)\n",
    "print('\\nAxes:')\n",
    "pprint(pd.axes)\n",
    "print('\\nConstraints:')\n",
    "pprint(pd.constraints)"
   ]
  },
  {
   "cell_type": "markdown",
   "metadata": {},
   "source": [
    "# example of instruction set that changes with iteration count"
   ]
  },
  {
   "cell_type": "code",
   "execution_count": 5,
   "metadata": {
    "scrolled": false
   },
   "outputs": [
    {
     "name": "stdout",
     "output_type": "stream",
     "text": [
      "PlotDescription<6x6, 3 axes, 0 text elements>\n",
      "\n",
      "Axes:\n",
      "[PlotAxis<axis_0, x0=0.5, y0=0.5, w=1, h=5.0>,\n",
      " PlotAxis<axis_1, x0=1.65, y0=2.5, w=3.85, h=3.0>,\n",
      " PlotAxis<axis_2, x0=1.65, y0=0.5, w=3.85, h=1.0>]\n",
      "\n",
      "Constraints:\n",
      "[PlotConstraint<None.w m s:0.5 axis_0.w>,\n",
      " PlotConstraint<None.n m s:-0.5 axis_0.n>,\n",
      " PlotConstraint<None.n m s:-0.5 axis_1.n>,\n",
      " PlotConstraint<axis_0.e m s:0.15 axis_1.w>,\n",
      " PlotConstraint<axis_0.e m s:0.15 axis_2.w>,\n",
      " PlotConstraint<None.s r s:0.5 axis_0.s>,\n",
      " PlotConstraint<None.s r s:0.5 axis_2.s>,\n",
      " PlotConstraint<None.e r s:-0.5 axis_1.e>,\n",
      " PlotConstraint<None.e r s:-0.5 axis_2.e>,\n",
      " PlotConstraint<axis_1.w r d:1.0 axis_2.w>,\n",
      " PlotConstraint<axis_2.n r s:1.0 axis_1.s>]\n",
      "\n",
      "PlotDescription<6x6, 3 axes, 0 text elements>\n",
      "\n",
      "Axes:\n",
      "[PlotAxis<axis_0, x0=0.5, y0=0.5, w=1, h=5.0>,\n",
      " PlotAxis<axis_1, x0=1.65, y0=4.5, w=3.85, h=1.0>,\n",
      " PlotAxis<axis_2, x0=1.65, y0=0.5, w=3.85, h=3.0>]\n",
      "\n",
      "Constraints:\n",
      "[PlotConstraint<None.w m s:0.5 axis_0.w>,\n",
      " PlotConstraint<None.n m s:-0.5 axis_0.n>,\n",
      " PlotConstraint<None.n m s:-0.5 axis_1.n>,\n",
      " PlotConstraint<axis_0.e m s:0.15 axis_1.w>,\n",
      " PlotConstraint<axis_0.e m s:0.15 axis_2.w>,\n",
      " PlotConstraint<None.s r s:0.5 axis_0.s>,\n",
      " PlotConstraint<None.s r s:0.5 axis_2.s>,\n",
      " PlotConstraint<None.e r s:-0.5 axis_1.e>,\n",
      " PlotConstraint<None.e r s:-0.5 axis_2.e>,\n",
      " PlotConstraint<axis_1.w r d:1.0 axis_2.w>,\n",
      " PlotConstraint<axis_2.n r s:1.0 axis_1.s>]\n",
      "\n"
     ]
    },
    {
     "data": {
      "image/png": "[encoded data removed]",
      "text/plain": [
       "<Figure size 600x600 with 3 Axes>"
      ]
     },
     "metadata": {},
     "output_type": "display_data"
    },
    {
     "data": {
      "image/png": "[encoded data removed]",
      "text/plain": [
       "<Figure size 600x600 with 3 Axes>"
      ]
     },
     "metadata": {},
     "output_type": "display_data"
    }
   ],
   "source": [
    "axis_spacing = 0.15\n",
    "margin = 0.5\n",
    "\n",
    "for n_iterations in [5, 6]:\n",
    "\n",
    "    pd = ppd.PlotDescription(6, 6)\n",
    "\n",
    "    # add three axes\n",
    "    ax1 = pd.add_axis(0, 0, 1, 1)\n",
    "    ax2 = pd.add_axis(0, 0, 1, 1)\n",
    "    ax3 = pd.add_axis(0, 0, 1, 1)\n",
    "\n",
    "    # align left plot\n",
    "    pd.add_constraint(None, ax1, 'w', 'w', 'move separation', margin)\n",
    "\n",
    "    # align to north boundary\n",
    "    pd.add_constraint(None, [ax1, ax2], 'n', 'n', 'move separation', -margin)\n",
    "\n",
    "    # set margins\n",
    "    pd.add_constraint(ax1, [ax2, ax3], 'e', 'w', 'move separation', axis_spacing)\n",
    "\n",
    "    # resize remaining degrees of freedom to respect desired separations\n",
    "    pd.add_constraint(None, [ax1, ax3], 's', 's', 'resize separation', margin)\n",
    "    pd.add_constraint(None, [ax2, ax3], 'e', 'e', 'resize separation', -margin)\n",
    "\n",
    "    # force two right plots to obey given aspect ratio in heights\n",
    "    pd.add_constraint(ax2, ax3, 'w', 'w', 'resize duplicate', 1.)\n",
    "\n",
    "    # notice that this call will *resize* ax2, which means ax3 loses its \n",
    "    # duplicate relationship with ax2 and different numbers of iterations\n",
    "    # lead to different results\n",
    "    pd.add_constraint(ax3, ax2, 'n', 's', 'resize separation', 1.)\n",
    "\n",
    "    # apply constraints and make image of layout\n",
    "    pd.apply_constraints(iterations=n_iterations)\n",
    "    fig = pd.get_matplotlib_figure(facecolor='m')\n",
    "    fig.savefig(f'direct-simple-noconv-it{n_iterations:d}.png')\n",
    "    \n",
    "    # print plot description\n",
    "    print(pd)\n",
    "    print('\\nAxes:')\n",
    "    pprint(pd.axes)\n",
    "    print('\\nConstraints:')\n",
    "    pprint(pd.constraints)\n",
    "    print()"
   ]
  },
  {
   "cell_type": "markdown",
   "metadata": {},
   "source": [
    "# more complicated layout"
   ]
  },
  {
   "cell_type": "code",
   "execution_count": 6,
   "metadata": {},
   "outputs": [
    {
     "data": {
      "image/png": "[encoded data removed]",
      "text/plain": [
       "<Figure size 800x800 with 7 Axes>"
      ]
     },
     "metadata": {},
     "output_type": "display_data"
    }
   ],
   "source": [
    "# margins\n",
    "margin_left = 1.5\n",
    "margin_bottom = 1.0\n",
    "margin_right = 0.5\n",
    "margin_interplot = 0.2\n",
    "margin_plotgroup = 0.5\n",
    "\n",
    "# create plot description\n",
    "pd = ppd.PlotDescription(8, 8)\n",
    "\n",
    "# axis index row|column\n",
    "ax11 = pd.add_axis(0, 0, 1, 1)\n",
    "ax12 = pd.add_axis(0, 0, 1, 1)\n",
    "ax13 = pd.add_axis(0, 0, 1, 1)\n",
    "\n",
    "ax21 = pd.add_axis(0, 0, 1, 1)\n",
    "ax22 = pd.add_axis(0, 0, 1, 1)\n",
    "\n",
    "ax31 = pd.add_axis(0, 0, 1, 1)\n",
    "ax32 = pd.add_axis(0, 0, 1, 1)\n",
    "\n",
    "# set left edge\n",
    "pd.add_constraint(None, [ax11, ax21, ax31], 'w', 'w', 'move separation', margin_left)\n",
    "\n",
    "# set up first row\n",
    "pd.add_constraint(None, [ax11, ax12, ax13], 'n', 'n', 'move separation', -margin_interplot)\n",
    "pd.add_constraint(ax11, ax12, 'e', 'w', 'move separation', margin_interplot)\n",
    "pd.add_constraint(ax12, ax13, 'e', 'w', 'move separation', margin_interplot)\n",
    "pd.add_constraint(None, ax13, 'e', 'e', 'resize separation', -margin_right)\n",
    "pd.add_constraint(ax11, [ax12, ax13], 'w', 'w', 'duplicate', 1.0)\n",
    "pd.add_constraint(ax11, [ax12, ax13], 'n', 'n', 'equalize', 0.5)\n",
    "\n",
    "# set second row\n",
    "pd.add_constraint(ax11, [ax21, ax22], 's', 'n', 'move separation', -margin_interplot)\n",
    "pd.add_constraint(ax11, ax21, 'w', 'w', 'move separation', 0)\n",
    "pd.add_constraint(ax12, ax21, 'e', 'e', 'resize separation', 0)\n",
    "pd.add_constraint(ax13, ax22, 'w', 'w', 'move separation', 0)\n",
    "pd.add_constraint(ax13, ax22, 'e', 'e', 'resize separation', 0)\n",
    "pd.add_constraint(ax21, ax22, 'w', 'w', 'duplicate', 1.0)\n",
    "\n",
    "# set third row\n",
    "pd.add_constraint(ax21, [ax31, ax32], 's', 'n', 'move separation', -margin_plotgroup)\n",
    "pd.add_constraint(ax31, ax32, 'e', 'w', 'move separation', margin_interplot)\n",
    "pd.add_constraint(None, ax32, 'e', 'e', 'resize separation', -margin_right)\n",
    "pd.add_constraint(None, [ax31, ax32], 's', 's', 'resize separation', margin_bottom)\n",
    "pd.add_constraint(ax31, ax32, 'w', 'w', 'duplicate', 1.0)\n",
    "pd.add_constraint(ax31, ax32, 'n', 'n', 'equalize', 1.0)\n",
    "\n",
    "# set row heights\n",
    "pd.add_constraint(ax11, ax21, 'w', 'w', 'equalize', 1.0)\n",
    "pd.add_constraint(ax11, ax31, 'w', 'w', 'equalize', 2.0)\n",
    "\n",
    "# apply constraints and make image of layout\n",
    "pd.apply_constraints()\n",
    "fig = pd.get_matplotlib_figure(facecolor='b')\n",
    "fig.savefig('direct-complicated.png')"
   ]
  },
  {
   "cell_type": "code",
   "execution_count": 7,
   "metadata": {},
   "outputs": [
    {
     "name": "stdout",
     "output_type": "stream",
     "text": [
      "PlotDescription<8x8, 7 axes, 0 text elements>\n",
      "\n",
      "Axes:\n",
      "[PlotAxis<axis_0, x0=1.5, y0=6.2749999999999995, w=2.8, h=1.525>,\n",
      " PlotAxis<axis_1, x0=4.499999999999999, y0=6.275, w=1.4, h=1.5250000000000001>,\n",
      " PlotAxis<axis_2, x0=6.1, y0=6.275, w=1.4, h=1.5250000000000001>,\n",
      " PlotAxis<axis_3, x0=1.5, y0=4.549999999999999, w=4.399999999999999, h=1.525>,\n",
      " PlotAxis<axis_4, x0=6.099999999999999, y0=4.549999999999999, w=1.4000000000000012, h=1.5250000000000001>,\n",
      " PlotAxis<axis_5, x0=1.5, y0=1.0, w=2.9, h=3.05>,\n",
      " PlotAxis<axis_6, x0=4.6, y0=1.0, w=2.9, h=3.049999999999999>]\n",
      "\n",
      "Constraints:\n",
      "[PlotConstraint<None.w m s:1.5 axis_0.w>,\n",
      " PlotConstraint<None.w m s:1.5 axis_3.w>,\n",
      " PlotConstraint<None.w m s:1.5 axis_5.w>,\n",
      " PlotConstraint<None.n m s:-0.2 axis_0.n>,\n",
      " PlotConstraint<None.n m s:-0.2 axis_1.n>,\n",
      " PlotConstraint<None.n m s:-0.2 axis_2.n>,\n",
      " PlotConstraint<axis_0.e m s:0.2 axis_1.w>,\n",
      " PlotConstraint<axis_1.e m s:0.2 axis_2.w>,\n",
      " PlotConstraint<None.e r s:-0.5 axis_2.e>,\n",
      " PlotConstraint<axis_0.w d:1.0 axis_1.w>,\n",
      " PlotConstraint<axis_0.w d:1.0 axis_2.w>,\n",
      " PlotConstraint<axis_0.n e:0.5 axis_1.n>,\n",
      " PlotConstraint<axis_0.n e:0.5 axis_2.n>,\n",
      " PlotConstraint<axis_0.s m s:-0.2 axis_3.n>,\n",
      " PlotConstraint<axis_0.s m s:-0.2 axis_4.n>,\n",
      " PlotConstraint<axis_0.w m s:0 axis_3.w>,\n",
      " PlotConstraint<axis_1.e r s:0 axis_3.e>,\n",
      " PlotConstraint<axis_2.w m s:0 axis_4.w>,\n",
      " PlotConstraint<axis_2.e r s:0 axis_4.e>,\n",
      " PlotConstraint<axis_3.w d:1.0 axis_4.w>,\n",
      " PlotConstraint<axis_3.s m s:-0.5 axis_5.n>,\n",
      " PlotConstraint<axis_3.s m s:-0.5 axis_6.n>,\n",
      " PlotConstraint<axis_5.e m s:0.2 axis_6.w>,\n",
      " PlotConstraint<None.e r s:-0.5 axis_6.e>,\n",
      " PlotConstraint<None.s r s:1.0 axis_5.s>,\n",
      " PlotConstraint<None.s r s:1.0 axis_6.s>,\n",
      " PlotConstraint<axis_5.w d:1.0 axis_6.w>,\n",
      " PlotConstraint<axis_5.n e:1.0 axis_6.n>,\n",
      " PlotConstraint<axis_0.w e:1.0 axis_3.w>,\n",
      " PlotConstraint<axis_0.w e:2.0 axis_5.w>]\n"
     ]
    }
   ],
   "source": [
    "print(pd)\n",
    "print('\\nAxes:')\n",
    "pprint(pd.axes)\n",
    "print('\\nConstraints:')\n",
    "pprint(pd.constraints)"
   ]
  },
  {
   "cell_type": "code",
   "execution_count": null,
   "metadata": {},
   "outputs": [],
   "source": []
  }
 ],
 "metadata": {
  "kernelspec": {
   "display_name": "Python 3 (ipykernel)",
   "language": "python",
   "name": "python3"
  },
  "language_info": {
   "codemirror_mode": {
    "name": "ipython",
    "version": 3
   },
   "file_extension": ".py",
   "mimetype": "text/x-python",
   "name": "python",
   "nbconvert_exporter": "python",
   "pygments_lexer": "ipython3",
   "version": "3.11.5"
  }
 },
 "nbformat": 4,
 "nbformat_minor": 2
}
