{
 "cells": [
  {
   "cell_type": "code",
   "execution_count": 1,
   "metadata": {},
   "outputs": [],
   "source": [
    "%load_ext autoreload\n",
    "%autoreload 2"
   ]
  },
  {
   "cell_type": "code",
   "execution_count": 2,
   "metadata": {},
   "outputs": [],
   "source": [
    "import matplotlib.pyplot as plt\n",
    "import numpy as np\n",
    "\n",
    "from pprint import pprint"
   ]
  },
  {
   "cell_type": "code",
   "execution_count": 3,
   "metadata": {},
   "outputs": [],
   "source": [
    "import pyplotdesigner as ppd"
   ]
  },
  {
   "cell_type": "markdown",
   "metadata": {},
   "source": [
    "# example using simple constraints"
   ]
  },
  {
   "cell_type": "code",
   "execution_count": 4,
   "metadata": {},
   "outputs": [
    {
     "data": {
      "image/png": "[encoded data removed]",
      "text/plain": [
       "<Figure size 600x600 with 3 Axes>"
      ]
     },
     "metadata": {},
     "output_type": "display_data"
    }
   ],
   "source": [
    "axis_spacing = 0.15\n",
    "margin = 0.5\n",
    "\n",
    "pd = ppd.PlotDescription(6, 6)\n",
    "\n",
    "# add three axes\n",
    "ax1 = pd.add_axis(0, 0, 1, 1)\n",
    "ax2 = pd.add_axis(0, 0, 1, 1)\n",
    "ax3 = pd.add_axis(0, 0, 1, 1)\n",
    "\n",
    "# align left plot\n",
    "pd.add_constraint(None, ax1, 'w', 'w', 'move separation', margin)\n",
    "\n",
    "# align to north boundary\n",
    "pd.add_constraint(None, [ax1, ax2], 'n', 'n', 'move separation', -margin)\n",
    "# set margins\n",
    "pd.add_constraint(ax1, [ax2, ax3], 'e', 'w', 'move separation', axis_spacing)\n",
    "\n",
    "# resize remaining degrees of freedom to respect desired separations\n",
    "pd.add_constraint(None, [ax1, ax3], 's', 's', 'resize separation', margin)\n",
    "pd.add_constraint(None, [ax2, ax3], 'e', 'e', 'resize separation', -margin)\n",
    "\n",
    "# force two right plots to obey given aspect ratio in heights\n",
    "pd.add_constraint(ax2, ax3, 'w', 'w', 'resize duplicate', 2.0)\n",
    "\n",
    "# notice that this call will *resize* ax2, which means ax3 loses its duplicate\n",
    "# relationship with ax2!\n",
    "pd.add_constraint(ax3, ax2, 'n', 's', 'resize separation', axis_spacing)\n",
    "\n",
    "# apply constraints and make image of layout\n",
    "pd.apply_constraints()\n",
    "\n",
    "fig = pd.get_matplotlib_figure(facecolor='r')\n",
    "fig.savefig('test.png')"
   ]
  },
  {
   "cell_type": "code",
   "execution_count": 5,
   "metadata": {},
   "outputs": [
    {
     "name": "stdout",
     "output_type": "stream",
     "text": [
      "PlotDescription<6x6, 3 axes, 0 text elements>\n",
      "\n",
      "Axes:\n",
      "[PlotAxis<axis_0, x0=0.5, y0=0.5, w=1, h=5.0>,\n",
      " PlotAxis<axis_1, x0=1.65, y0=2.65, w=3.85, h=2.85>,\n",
      " PlotAxis<axis_2, x0=1.65, y0=0.5, w=3.85, h=2.0>]\n",
      "\n",
      "Constraints:\n",
      "[PlotConstraint<None.w m s:0.5 axis_0.w>,\n",
      " PlotConstraint<None.n m s:-0.5 axis_0.n>,\n",
      " PlotConstraint<None.n m s:-0.5 axis_1.n>,\n",
      " PlotConstraint<axis_0.e m s:0.15 axis_1.w>,\n",
      " PlotConstraint<axis_0.e m s:0.15 axis_2.w>,\n",
      " PlotConstraint<None.s r s:0.5 axis_0.s>,\n",
      " PlotConstraint<None.s r s:0.5 axis_2.s>,\n",
      " PlotConstraint<None.e r s:-0.5 axis_1.e>,\n",
      " PlotConstraint<None.e r s:-0.5 axis_2.e>,\n",
      " PlotConstraint<axis_1.w r d:2.0 axis_2.w>,\n",
      " PlotConstraint<axis_2.n r s:0.15 axis_1.s>]\n"
     ]
    }
   ],
   "source": [
    "print(pd)\n",
    "print('\\nAxes:')\n",
    "pprint(pd.axes)\n",
    "print('\\nConstraints:')\n",
    "pprint(pd.constraints)"
   ]
  },
  {
   "cell_type": "code",
   "execution_count": null,
   "metadata": {},
   "outputs": [],
   "source": []
  }
 ],
 "metadata": {
  "kernelspec": {
   "display_name": "Python 3 (ipykernel)",
   "language": "python",
   "name": "python3"
  },
  "language_info": {
   "codemirror_mode": {
    "name": "ipython",
    "version": 3
   },
   "file_extension": ".py",
   "mimetype": "text/x-python",
   "name": "python",
   "nbconvert_exporter": "python",
   "pygments_lexer": "ipython3",
   "version": "3.11.5"
  }
 },
 "nbformat": 4,
 "nbformat_minor": 2
}
